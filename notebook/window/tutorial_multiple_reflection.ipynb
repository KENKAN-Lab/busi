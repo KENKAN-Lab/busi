{
 "cells": [
  {
   "cell_type": "code",
   "execution_count": 1,
   "metadata": {
    "pycharm": {
     "is_executing": false
    }
   },
   "outputs": [],
   "source": [
    "import sys\n",
    "from matplotlib import pyplot as plt\n",
    "\n",
    "sys.path.append('../')\n",
    "from src.window import multiple_reflection as mr"
   ]
  },
  {
   "cell_type": "markdown",
   "metadata": {},
   "source": [
    "# 概要"
   ]
  },
  {
   "cell_type": "markdown",
   "metadata": {
    "pycharm": {
     "name": "#%% md\n"
    }
   },
   "source": [
    "複数の層で構成されたガラスの日射特性値を計算する。  \n",
    "\n",
    "ガラスの日射特性値とは、\n",
    "- 正面側からの入射光に対する日射透過率\n",
    "- 背面側からの入射光に対する日射透過率\n",
    "- 正面側からの入射光に対する日射反射率\n",
    "- 背面側からの入射光に対する日射反射率\n",
    "- 各層における日射吸収率\n",
    "\n",
    "である。計算方法はJIS A2103に基づく。"
   ]
  },
  {
   "cell_type": "markdown",
   "metadata": {},
   "source": [
    "# 理論"
   ]
  },
  {
   "cell_type": "markdown",
   "metadata": {},
   "source": [
    "## 任意の層から任意の層までの多重反射計算  "
   ]
  },
  {
   "cell_type": "markdown",
   "metadata": {},
   "source": [
    "隣り合う層$i$から層$j$までの値の計算方法を以下に示す。  \n",
    "\n",
    "（参考：JIS A 2103：2014 5.4.2 日射透過率及び各面材の日射吸収率）\n",
    "\n",
    "$$ \\tau_{f,i,j} = \\frac {\\tau_{f,i,j-1} \\cdot \\tau_{f,j}}{1-\\rho_{b,i,j-1} \\cdot \\rho_{f,j}} $$\n",
    "\n",
    "$$ \\tau_{b,i,j} = \\frac {\\tau_{b,j} \\cdot \\tau_{b,i,j-1}}{1-\\rho_{b,i,j-1} \\cdot \\rho_{f,j}} $$\n",
    "\n",
    "$$ \\rho_{f,i,j} = \\rho_{f,i,j-1} + \\frac {\\tau_{f,i,j-1} \\cdot \\rho_{f,j} \\cdot \\tau_{b,i,j-1}}{1-\\rho_{b,i,j-1} \\cdot \\rho_{f,j}} $$\n",
    "\n",
    "$$ \\rho_{b,i,j} = \\rho_{b,j} + \\frac {\\tau_{b,j} \\cdot \\rho_{b,i,j-1} \\cdot \\tau_{f,j}}{1-\\rho_{b,i,j-1} \\cdot \\rho_{f,j}} $$\n",
    "\n",
    "ここで、\n",
    "\n",
    "$ \\tau_{f,i,j} $　：　層$i$－$j$間の正面側からの入射光に対する日射透過率  \n",
    "$ \\tau_{b,i,j} $　：　層$i$－$j$間の背面側からの入射光に対する日射透過率  \n",
    "$ \\rho_{f,i,j} $　：　層$i$－$j$間の正面側からの入射光に対する日射反射率  \n",
    "$ \\rho_{b,i,j} $　：　層$i$－$j$間の背面側からの入射光に対する日射反射率  \n",
    "\n",
    "である。  \n",
    "\n",
    "任意の層$i$－$j$間の値を求める場合は、層$i+1$, $i+2$,..., $j-2$, $j-1$, $j$というように、式(5.1.2-a)～式(5.1.2-d)を逐次代入して求める。  \n",
    "\n",
    "ここで、$ i=j $ のときは、\n",
    "\n",
    "$$ \\tau_{f,i,j} = \\tau_{f,j} $$\n",
    "\n",
    "$$ \\tau_{b,i,j} = \\tau_{b,j} $$\n",
    "\n",
    "$$ \\rho_{f,i,j} = \\rho_{f,j} $$\n",
    "\n",
    "$$ \\rho_{b,i,j} = \\rho_{b,j} $$\n",
    "\n",
    "である。"
   ]
  },
  {
   "cell_type": "markdown",
   "metadata": {},
   "source": [
    "## （参考）代表的な板ガラスの光学特性"
   ]
  },
  {
   "cell_type": "markdown",
   "metadata": {},
   "source": [
    "代表的な板ガラスの日射透過率及び日射反射率を示す。\n",
    "\n",
    "| 種別 | 種類・呼び厚 | 日射透過率 $\\tau$ | 日射反射率 $\\rho$ <br> ガラス面入射 | 日射反射率 $\\rho$ <br> 薄膜面入射 |\n",
    "| :---: | :---: | :---: | :---: | :---: |\n",
    "| 透明フロート板ガラス | 透明・3ミリ | 0.859 | 0.077 | ー |\n",
    "| 透明フロート板ガラス | 透明・4ミリ | 0.841 | 0.075 | ー |\n",
    "| 透明フロート板ガラス | 透明・5ミリ | 0.823 | 0.074 | ー |\n",
    "| 透明フロート板ガラス | 透明・6ミリ | 0.806 | 0.073 | ー |\n",
    "| 網入りガラス | 透明・6.8ミリ | 0.777 | 0.076 | ー |\n",
    "| 透明合わせガラス | 透明合わせ6ミリ<br>（中間膜0.76mm） | 0.752 | 0.076 | ー |\n",
    "| 熱線吸収板ガラス | グリーン・5ミリ | 0.514 | 0.057 | ー |\n",
    "| 熱線吸収板ガラス | グリーン・6ミリ | 0.467 | 0.055 | ー |\n",
    "| 熱線反射ガラス | シルバー・6ミリ | 0.627 | 0.211 | 0.252 |\n",
    "| 高性能熱線反射ガラス | SGY32・6ミリ | 0.291 | 0.103 | 0.250 |\n",
    "| 高性能熱線反射ガラス | SS8・6ミリ | 0.063 | 0.362 | 0.477 |\n",
    "| Low-Eガラス | 日射取得型・3ミリ | 0.703 | 0.106 | 0.117 |\n",
    "| Low-Eガラス | 日射中庸型・3ミリ | 0.608 | 0.216 | 0.244 |\n",
    "| Low-Eガラス | 日射遮蔽型・3ミリ | 0.396 | 0.355 | 0.427 |\n"
   ]
  },
  {
   "cell_type": "markdown",
   "metadata": {},
   "source": [
    "## 各層の日射吸収率"
   ]
  },
  {
   "cell_type": "markdown",
   "metadata": {
    "pycharm": {
     "name": "#%% md\n"
    }
   },
   "source": [
    "各層の値の計算方法を以下に示す。（JISでは添え字は1始まりであるが、本仕様書では0始まりとしている。） \n",
    "\n",
    "（参考：JIS A 2103：2014 5.4.2 日射透過率及び各面材の日射吸収率）  \n",
    "\n",
    "$ j = 0 $ かつ $ n = 0 $ の場合\n",
    "\n",
    "$$ \\alpha_j = \\alpha_{f,j} $$\n",
    "\n",
    "$ j = 0 $ かつ $ n \\neq 0 $ の場合\n",
    "\n",
    "$$ \\alpha_j = \\alpha_{f,j} + \\frac {\\tau_{f,0,j} \\cdot \\rho_{f,j+1,n}}{1-\\rho_{b,0,j} \\cdot \\rho_{f,j+1,n}} \\cdot \\alpha_{b,j} $$\n",
    "\n",
    "$ j = 1 $ ～ $ n - 2 $ の場合 \n",
    "\n",
    "$$ \\alpha_j = \\frac {\\tau_{f,0,j-1}}{1-\\rho_{b,0,j-1} \\cdot \\rho_{f,j,n}} \\cdot \\alpha_{f,j} + \\frac {\\tau_{f,0,j} \\cdot \\rho_{f,j+1,n}}{1-\\rho_{b,0,j} \\cdot \\rho_{f,j+1,n}} \\cdot \\alpha_{b,j} $$\n",
    "\n",
    "$ j = n - 1 $ の場合\n",
    "\n",
    "$$ \\alpha_j = \\frac {\\tau_{f,0,j-1}}{1-\\rho_{b,0,j-1} \\cdot \\rho_{f,j,n}} \\cdot \\alpha_{f,j} $$\n",
    "\n",
    "ここで、\n",
    "\n",
    "$j$ ：層の番号  \n",
    "$n$ ：層の数  \n",
    "\n",
    "である。  \n",
    "\n",
    "また、\n",
    "\n",
    "$$ \\alpha_{f,j} = 1 - \\tau_{f,j} - \\rho_{f,j} $$\n",
    "\n",
    "$$ \\alpha_{b,j} = 1 - \\tau_{b,j} - \\rho_{b,j} $$\n",
    "\n",
    "である。"
   ]
  },
  {
   "cell_type": "markdown",
   "metadata": {},
   "source": [
    "## グレージング複合体全体の透過率  "
   ]
  },
  {
   "cell_type": "markdown",
   "metadata": {},
   "source": [
    "グレージング複合体全体の透過率は、定義から、\n",
    "\n",
    "$$ \\tau_{glz} = \\tau_{f,0,n-1} $$\n",
    "\n",
    "となる。  "
   ]
  },
  {
   "cell_type": "markdown",
   "metadata": {
    "pycharm": {
     "name": "#%% md\n"
    }
   },
   "source": [
    "# 使い方"
   ]
  },
  {
   "cell_type": "markdown",
   "metadata": {
    "pycharm": {
     "name": "#%% md\n"
    }
   },
   "source": [
    "ガラス1枚について、  \n",
    "\n",
    "- 正面側からの入射光に対する日射透過率\n",
    "- 背面側からの入射光に対する日射透過率\n",
    "- 正面側からの入射光に対する日射反射率\n",
    "- 背面側からの入射光に対する日射反射率\n",
    "\n",
    "を設定する。  \n",
    "ガラス1枚に対応するクラスが、SolarSpecSingleLayer クラスであり、下記の引数に対応する数字を設定する。 \n",
    "\n",
    "- tau_f : 正面側からの入射光に対する日射透過率\n",
    "- tau_b : 背面側からの入射光に対する日射透過率\n",
    "- rho_f : 正面側からの入射光に対する日射反射率\n",
    "- rho_b : 背面側からの入射光に対する日射反射率"
   ]
  },
  {
   "cell_type": "code",
   "execution_count": 2,
   "metadata": {
    "pycharm": {
     "is_executing": false,
     "name": "#%%\n"
    }
   },
   "outputs": [],
   "source": [
    "# ガラス1枚目\n",
    "g1 = mr.SolarSpecSingleLayer(tau_f=0.859, tau_b=0.859, rho_f=0.077, rho_b=0.077)\n",
    "\n",
    "# ガラス2枚目\n",
    "g2 = mr.SolarSpecSingleLayer(tau_f=0.859, tau_b=0.859, rho_f=0.077, rho_b=0.077)\n",
    "\n",
    "# ガラス3枚目\n",
    "g3 = mr.SolarSpecSingleLayer(tau_f=0.859, tau_b=0.859, rho_f=0.077, rho_b=0.077)"
   ]
  },
  {
   "cell_type": "markdown",
   "metadata": {
    "pycharm": {
     "name": "#%% md\n"
    }
   },
   "source": [
    "ガラスを表すクラス Glass に係数を渡す。  \n",
    "各係数を計算する関数に、ガラスのリストとして渡すため、正面側から順番にガラスをリストにしておく。単板ガラスの場合もリストにすること。"
   ]
  },
  {
   "cell_type": "code",
   "execution_count": 3,
   "metadata": {
    "pycharm": {
     "is_executing": false,
     "name": "#%%\n"
    }
   },
   "outputs": [],
   "source": [
    "g = mr.Glass(ss=[g1, g2, g3])"
   ]
  },
  {
   "cell_type": "markdown",
   "metadata": {
    "pycharm": {
     "name": "#%% md\n"
    }
   },
   "source": [
    "窓全体の性能を計算する場合は、 get_total_solar_spec 関数を使用する。引数にはガラスのリストを渡す。  \n",
    "戻り値は、ガラス全体の日射特性値を表すクラスであり、下記のプロパティを持つ。\n",
    "\n",
    "- tau_f : 正面側からの入射光に対する日射透過率\n",
    "- tau_b : 背面側からの入射光に対する日射透過率\n",
    "- rho_f : 正面側からの入射光に対する日射反射率\n",
    "- rho_b : 背面側からの入射光に対する日射反射率"
   ]
  },
  {
   "cell_type": "code",
   "execution_count": 4,
   "metadata": {
    "pycharm": {
     "is_executing": false,
     "name": "#%%\n"
    }
   },
   "outputs": [
    {
     "name": "stdout",
     "output_type": "stream",
     "text": [
      "0.1770242008152192 0.6442755896857679\n"
     ]
    }
   ],
   "source": [
    "sm = g.get_total_solar_spec()\n",
    "\n",
    "# 窓の反射率（正面側からの入射光）\n",
    "rho = sm.rho_f\n",
    "\n",
    "# 窓の透過率（正面側からの透過率）\n",
    "tau = sm.tau_f\n",
    "\n",
    "print(rho, tau)"
   ]
  },
  {
   "cell_type": "markdown",
   "metadata": {
    "pycharm": {
     "is_executing": false,
     "name": "#%% md\n"
    }
   },
   "source": [
    "窓の各層における日射吸収率は、　get_abs_multi_layer　関数を使用する。引数にはガラスのリストを渡す。  \n",
    "戻り値は、日射吸収率のリスト。"
   ]
  },
  {
   "cell_type": "code",
   "execution_count": 5,
   "metadata": {
    "pycharm": {
     "is_executing": false,
     "name": "#%%\n"
    }
   },
   "outputs": [
    {
     "name": "stdout",
     "output_type": "stream",
     "text": [
      "[0.0714523269524727, 0.05924597598089509, 0.04800190656564512]\n"
     ]
    }
   ],
   "source": [
    "alpha = g.get_abs_multi_layer()\n",
    "\n",
    "print(alpha)"
   ]
  },
  {
   "cell_type": "markdown",
   "metadata": {
    "pycharm": {
     "name": "#%% md\n"
    }
   },
   "source": [
    "念の為、グレージング複合体の透過率・反射率・吸収率の合計が1.0になっているかを確認する。"
   ]
  },
  {
   "cell_type": "code",
   "execution_count": 6,
   "metadata": {
    "pycharm": {
     "is_executing": false,
     "name": "#%%\n"
    }
   },
   "outputs": [
    {
     "data": {
      "text/plain": [
       "1.0"
      ]
     },
     "execution_count": 6,
     "metadata": {},
     "output_type": "execute_result"
    }
   ],
   "source": [
    "total = rho + tau + sum(alpha)\n",
    "\n",
    "total"
   ]
  },
  {
   "cell_type": "markdown",
   "metadata": {
    "pycharm": {
     "name": "#%% md\n"
    }
   },
   "source": [
    "各要素を円グラフに表す。"
   ]
  },
  {
   "cell_type": "code",
   "execution_count": 7,
   "metadata": {
    "pycharm": {
     "is_executing": false,
     "name": "#%%\n"
    }
   },
   "outputs": [
    {
     "data": {
      "image/png": "[encoded data removed]",
      "text/plain": [
       "<Figure size 360x360 with 1 Axes>"
      ]
     },
     "metadata": {},
     "output_type": "display_data"
    }
   ],
   "source": [
    "fig = plt.figure(figsize=(5, 5))\n",
    "plt.style.use('ggplot')\n",
    "ax = fig.add_subplot(1, 1, 1)\n",
    "ax.pie(\n",
    "    [rho, tau, alpha[0], alpha[1], alpha[2]],\n",
    "    labels=['ρ', 'τ', 'α1', 'α2', 'α3'],\n",
    "    autopct='%1.1f%%',\n",
    "    pctdistance=0.6,\n",
    "    startangle=90,\n",
    "    counterclock=False,\n",
    "    textprops={'fontsize': 12}\n",
    ")\n",
    "\n",
    "plt.axis('equal')\n",
    "\n",
    "plt.show()\n"
   ]
  },
  {
   "cell_type": "code",
   "execution_count": null,
   "metadata": {},
   "outputs": [],
   "source": []
  }
 ],
 "metadata": {
  "kernelspec": {
   "display_name": "Python 3",
   "language": "python",
   "name": "python3"
  },
  "language_info": {
   "codemirror_mode": {
    "name": "ipython",
    "version": 3
   },
   "file_extension": ".py",
   "mimetype": "text/x-python",
   "name": "python",
   "nbconvert_exporter": "python",
   "pygments_lexer": "ipython3",
   "version": "3.7.6"
  },
  "pycharm": {
   "stem_cell": {
    "cell_type": "raw",
    "metadata": {
     "collapsed": false
    },
    "source": []
   }
  }
 },
 "nbformat": 4,
 "nbformat_minor": 1
}
