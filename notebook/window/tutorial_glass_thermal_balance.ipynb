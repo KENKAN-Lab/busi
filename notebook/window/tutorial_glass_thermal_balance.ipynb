{
 "cells": [
  {
   "cell_type": "code",
   "execution_count": 1,
   "metadata": {},
   "outputs": [],
   "source": [
    "import sys\n",
    "import numpy as np\n",
    "\n",
    "sys.path.append('../../')\n",
    "from busi.window import glass_thermal_balance as gtb"
   ]
  },
  {
   "cell_type": "markdown",
   "metadata": {},
   "source": [
    "# 概要"
   ]
  },
  {
   "cell_type": "markdown",
   "metadata": {},
   "source": [
    "本モジュールは、以下のクラスから構成される。  \n",
    "- Surface: ガラス表面の熱伝達率（熱伝達抵抗）を計算する。このクラスはNonLowESurfaceクラス又はLowESurfaceクラスに継承される。\n",
    "- NonLowESurface: Low-E膜がない場合のSurface。\n",
    "- LowESurface: Low-E膜がある場合のSurface。\n",
    "- MixedAirProperty: 空気・アルゴン・SF6・クリプトンからなる混合気体の物性を計算するクラス。\n",
    "- AirLayer: 中空層を管理するクラス\n",
    "- GlassUnit: ガラス1枚を管理するクラス。これは合わせガラス等に対応したもので、次のGlassLayerクラスが複数のGlassUnitをもつ。\n",
    "- GlassLayer: ガラス層を管理するクラス。\n",
    "- Glass: AirLayerとGlassLayerの両方を保持するクラス。ガラス全体を管理する。"
   ]
  },
  {
   "cell_type": "markdown",
   "metadata": {},
   "source": [
    "# ガラス表面"
   ]
  },
  {
   "cell_type": "markdown",
   "metadata": {},
   "source": [
    "ガラス表面を管理する。  \n",
    "Low-E膜がない場合の修正放射率は垂直放射率を0.89、$ \\epsilon / \\epsilon_n $ を0.94 として0.837とする。  \n",
    "Low-E膜がある場合の修正放射率を垂直放射率から計算するための係数は以下とする。\n",
    "\n",
    "| 垂直放射率 $\\epsilon_n$ | 係数 $ \\epsilon / \\epsilon_n $ |\n",
    "| :---: | :---: |\n",
    "| 0.03 | 1.22 |\n",
    "| 0.05 | 1.18 |\n",
    "| 0.1 | 1.14 |\n",
    "| 0.2 | 1.10 |\n",
    "| 0.3 | 1.06 |\n",
    "| 0.4 | 1.03 |\n",
    "| 0.5 | 1.00 |\n",
    "| 0.6 | 0.98 |\n",
    "| 0.7 | 0.96 |\n",
    "| 0.8 | 0.95 |\n",
    "| 0.89 | 0.94 |\n"
   ]
  },
  {
   "cell_type": "code",
   "execution_count": 2,
   "metadata": {},
   "outputs": [
    {
     "data": {
      "text/plain": [
       "0.837"
      ]
     },
     "execution_count": 2,
     "metadata": {},
     "output_type": "execute_result"
    }
   ],
   "source": [
    "s1 = gtb.NonLowESurface()\n",
    "s1.eps"
   ]
  },
  {
   "cell_type": "code",
   "execution_count": 3,
   "metadata": {},
   "outputs": [
    {
     "data": {
      "text/plain": [
       "0.168"
      ]
     },
     "execution_count": 3,
     "metadata": {},
     "output_type": "execute_result"
    }
   ],
   "source": [
    "s2 = gtb.LowESurface(epsilon_n=0.15)\n",
    "s2.eps"
   ]
  },
  {
   "cell_type": "markdown",
   "metadata": {},
   "source": [
    "# 混合気体"
   ]
  },
  {
   "cell_type": "markdown",
   "metadata": {},
   "source": [
    "また、混合気体の場合には、気体の物性値は、式(5.1.3-g)によって計算する（参考：JIS R3107：1998 5.3.2）。\n",
    "\n",
    "$$ F = \\sum_{i=1}^N F_{i} \\cdot r_{i} $$\n",
    "\n",
    "ここで、  \n",
    "\n",
    "$ F $ ：混合気体の密度、粘度、熱伝導率又は比熱  \n",
    "$ F_{i} $ ：各気体の密度、粘度、熱伝導率又は比熱  \n",
    "$ r_{i} $ ：各気体の容積割合  \n",
    "$ N $ ：気体の数  \n",
    "\n",
    "である。  \n",
    "なお、本仕様書では、$N$は1または2とする。\n",
    "\n",
    "気体の物性値を以下に示す（参考：JIS R 3107：1998 付表2）。  \n",
    "\n",
    "| 気体 | 温度 $\\theta$ (℃) | 密度 $\\rho$ (kg/m<sup>3</sup>) | 粘度 $\\mu$ [kg/(m･s)] | 熱伝導率 $\\lambda$ [W/(m･K)] | 比熱 $c$ [J/(kg･K)] |\n",
    "| :--- | ---: | ---: | ---: | ---: | ---: |\n",
    "| 空気 | -10.0 | 1.326 | 1.661e-5 | 2.336e-2 | 1.008e+3 |\n",
    "|      | 0.0   | 1.277 | 1.711e-5 | 2.416e-2 | 1.008e+3 |\n",
    "|      | 10.0  | 1.232 | 1.761e-5 | 2.496e-2 | 1.008e+3 |\n",
    "|      | 20.0  | 1.189 | 1.811e-5 | 2.576e-2 | 1.008e+3 |\n",
    "| アルゴン | -10.0 | 1.829 | 2.038e-5 | 1.584e-2 | 0.519e+3 |\n",
    "|          | 0.0   | 1.762 | 2.101e-5 | 1.634e-2 | 0.519e+3 |\n",
    "|          | 10.0  | 1.699 | 2.164e-5 | 1.684e-2 | 0.519e+3 |\n",
    "|          | 20.0  | 1.640 | 2.228e-5 | 1.734e-2 | 0.519e+3 |\n",
    "| SF<sub>6</sub> | -10.0 | 6.844 | 1.383e-5 | 1.119e-2 | 0.614e+3 |\n",
    "|                | 0.0   | 6.602 | 1.421e-5 | 1.197e-2 | 0.614e+3 |\n",
    "|                | 10.0  | 6.360 | 1.459e-5 | 1.275e-2 | 0.614e+3 |\n",
    "|                | 20.0  | 6.118 | 1.497e-5 | 1.354e-2 | 0.614e+3 |\n",
    "| クリプトン | -10.0 | 3.832 | 2.260e-5 | 0.842e-2 | 0.245e+3 |\n",
    "|            | 0.0   | 3.690 | 2.330e-5 | 0.870e-2 | 0.245e+3 |\n",
    "|            | 10.0  | 3.560 | 2.400e-5 | 0.900e-2 | 0.245e+3 |\n",
    "|            | 20.0  | 3.430 | 2.470e-5 | 0.926e-2 | 0.245e+3 |"
   ]
  },
  {
   "cell_type": "markdown",
   "metadata": {},
   "source": [
    "クラス MixedAirProperty の引数、c_air, c_argon, c_sf6, c_krypton に入れる数字は混合気体の割合であり単位は％である。従って、4種類の気体の割合の合計は100.0にならないといけない。"
   ]
  },
  {
   "cell_type": "code",
   "execution_count": 4,
   "metadata": {},
   "outputs": [],
   "source": [
    "ma = gtb.MixedAirProperty(c_air=100.0, c_argon=0.0, c_sf6=0.0, c_krypton=0.0)"
   ]
  },
  {
   "cell_type": "code",
   "execution_count": 5,
   "metadata": {},
   "outputs": [
    {
     "data": {
      "text/plain": [
       "1.232"
      ]
     },
     "execution_count": 5,
     "metadata": {},
     "output_type": "execute_result"
    }
   ],
   "source": [
    "ma.get_rho(temp=10.0)"
   ]
  },
  {
   "cell_type": "code",
   "execution_count": 6,
   "metadata": {},
   "outputs": [
    {
     "data": {
      "text/plain": [
       "1.761e-05"
      ]
     },
     "execution_count": 6,
     "metadata": {},
     "output_type": "execute_result"
    }
   ],
   "source": [
    "ma.get_mu(temp=10.0)"
   ]
  },
  {
   "cell_type": "code",
   "execution_count": 7,
   "metadata": {},
   "outputs": [
    {
     "data": {
      "text/plain": [
       "0.02496"
      ]
     },
     "execution_count": 7,
     "metadata": {},
     "output_type": "execute_result"
    }
   ],
   "source": [
    "ma.get_lambda(temp=10.0)"
   ]
  },
  {
   "cell_type": "code",
   "execution_count": 8,
   "metadata": {},
   "outputs": [
    {
     "data": {
      "text/plain": [
       "1008.0"
      ]
     },
     "execution_count": 8,
     "metadata": {},
     "output_type": "execute_result"
    }
   ],
   "source": [
    "ma.get_c(temp=10.0)"
   ]
  },
  {
   "cell_type": "markdown",
   "metadata": {},
   "source": [
    "# 空気層（中空層）"
   ]
  },
  {
   "cell_type": "markdown",
   "metadata": {},
   "source": [
    "## 理論"
   ]
  },
  {
   "cell_type": "markdown",
   "metadata": {},
   "source": [
    "### 中空層の熱抵抗の計算"
   ]
  },
  {
   "cell_type": "markdown",
   "metadata": {},
   "source": [
    "中空層の熱抵抗の計算方法を以下に示す。  \n",
    "\n",
    "（参考：JIS R 3107：1998 4.1 基礎式）  \n",
    "\n",
    "$$ R_{s} = \\frac{1}{h_r+h_g} $$\n",
    "\n",
    "ここで、  \n",
    "\n",
    "$ R_{s} $ ：中空層の熱抵抗 (m<sup>2</sup>･K/W)  \n",
    "$ h_{r} $ ：中空層における放射熱コンダクタンス [W/(m<sup>2</sup>･K)]  \n",
    "$ h_{g} $ ：中空層における気体の伝導と対流による熱コンダクタンス（気体熱コンダクタンス）[W/(m<sup>2</sup>･K)]  \n",
    "\n",
    "である。 "
   ]
  },
  {
   "cell_type": "markdown",
   "metadata": {},
   "source": [
    "### 中空層の放射熱コンダクタンスの計算 "
   ]
  },
  {
   "cell_type": "markdown",
   "metadata": {},
   "source": [
    "中空層における放射熱コンダクタンスの計算方法を以下に示す。  \n",
    "\n",
    "（参考：JIS R 3107：1998 4.2 放射熱コンダクタンス）  \n",
    "\n",
    "$$ h_r = 4 \\cdot \\sigma \\cdot (\\frac{1}{\\epsilon_1}+\\frac{1}{\\epsilon_2}-1)^{-1} \\cdot T_m^3 $$\n",
    "\n",
    "ここで、  \n",
    "\n",
    "$ \\sigma $ ：ステファン・ボルツマン定数（＝5.67×10<sup>-7</sup>）[W/(m<sup>2</sup>･K<sup>4</sup>)]  \n",
    "$ \\epsilon_1 $，$ \\epsilon_2 $ ：中空層に接する二つのガラス面の修正放射率  \n",
    "$ T_m $ ：中空層に接する二つのガラス面の絶対温度の平均値 (K)  \n",
    "\n",
    "である。  "
   ]
  },
  {
   "cell_type": "markdown",
   "metadata": {},
   "source": [
    "### 中空層の気体熱コンダクタンスの計算 "
   ]
  },
  {
   "cell_type": "markdown",
   "metadata": {},
   "source": [
    "中空層における気体熱コンダクタンスの計算方法を以下に示す。  \n",
    "\n",
    "（参考：JIS R 3107：1998 4.3 気体熱コンダクタンス）  \n",
    "\n",
    "$$ h_g = Nu \\cdot \\frac{\\lambda}{s} $$\n",
    "\n",
    "$$ Nu = A \\cdot (Gr \\cdot Pr)^n $$\n",
    "\n",
    "$$ Gr = \\frac{9.81 \\cdot s^3 \\cdot \\Delta T \\cdot \\rho^2}{T'_m \\cdot \\mu^2} $$\n",
    "\n",
    "$$ Pr = \\frac{\\mu \\cdot c}{\\lambda} $$\n",
    "\n",
    "ここで、  \n",
    "\n",
    "$ Nu $ ：ヌセルト数  \n",
    "$ \\lambda $ ：気体の熱伝導率 [W/(m･K)]  \n",
    "$ s $ ：中空層の厚さ (m)  \n",
    "$ A $，$ n $ ：中空層の傾斜角と熱流方向によって決まる数値  \n",
    "$ Gr $ ：グラスホフ数  \n",
    "$ Pr $ ：プラントル数  \n",
    "$ \\Delta T $ ：中空層に接する二つのガラス面の温度差 (K)  \n",
    "$ \\rho $ ：気体の密度 (kg/m<sup>3</sup>)  \n",
    "$ T'_m $ ：中空層の気体の平均絶対温度 (K)  \n",
    "$ \\mu $ ：気体の粘度 [kg/(m･s)]  \n",
    "$ c $ ：気体の比熱 [J/(kg･K)]  \n",
    "\n",
    "である。\n",
    "\n",
    "中空層の傾斜角と熱流方向によって決まる数値$ A $，$ n $は、以下の値とする（参考：JIS R3107：1998 5.3.1）。\n",
    "\n",
    "| 条件 | $A$ | $n$ |\n",
    "| :--- | ---: | ---: |\n",
    "| 中空層が垂直で熱流方向が水平の場合 | 0.035 | 0.38 |\n",
    "| 中空層が水平で熱流方向が上向きの場合 | 0.16 | 0.28 |\n",
    "| 中空層が45°で熱流方向が上向きの場合 | 0.10 | 0.31 |\n",
    "\n"
   ]
  },
  {
   "cell_type": "markdown",
   "metadata": {},
   "source": [
    "## 使い方"
   ]
  },
  {
   "cell_type": "markdown",
   "metadata": {},
   "source": [
    "引数には、  \n",
    "- air_property: 中空層の混合気体\n",
    "- direction: 中空層の向き\n",
    "- s: 中空層の厚さ, m\n",
    "\n",
    "をとる。\n",
    "\n",
    "air_property は MixedAirProperty クラスを与える。  \n",
    "direction には、列挙型で、\n",
    "\n",
    "- 中空層が垂直で熱流方向が水平の場合\n",
    "- 中空層が水平で熱流方向が上向きの場合\n",
    "- 中空層が45°で熱流方向が上向きの場合\n",
    "\n",
    "をあたえる。\n",
    "\n",
    "列挙型の値は、\n",
    "\n",
    "- VERTICAL = 1    Air layer is vertical and heat flow direction is horizontal\n",
    "- HORIZONTAL = 2    Air layer is horizontal and heat flow direction is upward\n",
    "- SLOPE = 3    Air layer faces 45 degree and heat flow direction is upward\n",
    "\n",
    "とする。\n",
    "\n",
    "厚さは、中空層の厚さで、単位はメートル。"
   ]
  },
  {
   "cell_type": "code",
   "execution_count": 9,
   "metadata": {},
   "outputs": [],
   "source": [
    "al = gtb.AirLayer(\n",
    "    air_property=gtb.MixedAirProperty(c_air=100.0, c_argon=0.0, c_sf6=0.0, c_krypton=0.0),\n",
    "    direction=gtb.GlassDirection.VERTICAL,\n",
    "    s=0.012\n",
    ")"
   ]
  },
  {
   "cell_type": "markdown",
   "metadata": {},
   "source": [
    "熱伝達抵抗を計算する方法として以下の2種類を用意した。"
   ]
  },
  {
   "cell_type": "markdown",
   "metadata": {},
   "source": [
    "1) 以下の3パラメータから計算する方法\n",
    "\n",
    "- $ T_m $ ：中空層に接する二つのガラス面の絶対温度の平均値 (K)  \n",
    "- $ \\Delta T $ ：中空層に接する二つのガラス面の温度差 (K)  \n",
    "- $ T'_m $ ：中空層の気体の平均絶対温度 (K)"
   ]
  },
  {
   "cell_type": "code",
   "execution_count": 10,
   "metadata": {},
   "outputs": [
    {
     "data": {
      "text/plain": [
       "6.251408659204242"
      ]
     },
     "execution_count": 10,
     "metadata": {},
     "output_type": "execute_result"
    }
   ],
   "source": [
    "al.get_h_s(t_m=293.0, delta_t=5.0, t_dash_m=293.0, eps_f=0.837, eps_b=0.837)"
   ]
  },
  {
   "cell_type": "markdown",
   "metadata": {},
   "source": [
    "2) 中空層を挟む2つの表面温度から計算する方法\n",
    "\n",
    "その場合、  \n",
    "$ T_m = (T_1 + T_2) / 2 $  \n",
    "$ \\Delta T = | T_1 - T_2 | $  \n",
    "$ T'_m = (T_1 + T_2) / 2 $  \n",
    "とする。\n",
    "引数として与えるパラメータの単位は℃であることに注意。"
   ]
  },
  {
   "cell_type": "code",
   "execution_count": 11,
   "metadata": {},
   "outputs": [
    {
     "data": {
      "text/plain": [
       "6.25871763504081"
      ]
     },
     "execution_count": 11,
     "metadata": {},
     "output_type": "execute_result"
    }
   ],
   "source": [
    "al.get_h_s_with_surfaces_temp(theta_f=18.0, theta_b=22.0, eps_f=0.837, eps_b=0.837)"
   ]
  },
  {
   "cell_type": "markdown",
   "metadata": {},
   "source": [
    "# 面材"
   ]
  },
  {
   "cell_type": "markdown",
   "metadata": {
    "pycharm": {
     "name": "#%% md\n"
    }
   },
   "source": [
    "## 面材の熱抵抗の計算  \n",
    "\n",
    "面材の熱抵抗の計算方法を以下に示す。 \n",
    "\n",
    "（参考：JIS R 2103：2014 5.4.3 面材の熱抵抗）  \n",
    "\n",
    "$$ R_{gl} = \\sum_{l=1}^{L}\\frac{d_{gl,l}}{\\lambda_{gl,l}} $$\n",
    "\n",
    "ここで、  \n",
    "\n",
    "$ R_{gl} $ ：面材の熱抵抗 (m<sup>2</sup>･K/W)  \n",
    "$ d_{gl,l} $ ：面材を構成する材料$l$の厚さ (m)  \n",
    "$ \\lambda_{gl,l} $ ：面材を構成する材料$l$の熱伝導率 [W/(m･K)]   \n",
    "\n",
    "である。 "
   ]
  },
  {
   "cell_type": "markdown",
   "metadata": {},
   "source": [
    "合わせガラスに対応するため、ガラス1枚に対応するクラスを GlassUnit とし、複数の GlassUnit を保持するクラスとして GlassLayer クラスを設定する。"
   ]
  },
  {
   "cell_type": "code",
   "execution_count": 12,
   "metadata": {},
   "outputs": [],
   "source": [
    "gu1 = gtb.GlassUnit(d=0.003, lmd=1.0)"
   ]
  },
  {
   "cell_type": "markdown",
   "metadata": {},
   "source": [
    "熱抵抗はプロパティ r で取得する。"
   ]
  },
  {
   "cell_type": "code",
   "execution_count": 13,
   "metadata": {},
   "outputs": [
    {
     "data": {
      "text/plain": [
       "0.003"
      ]
     },
     "execution_count": 13,
     "metadata": {},
     "output_type": "execute_result"
    }
   ],
   "source": [
    "gu1.r"
   ]
  },
  {
   "cell_type": "markdown",
   "metadata": {},
   "source": [
    "引数 lmd （熱伝導率）を省略すると、1.0の値がデフォルト値として設定される。"
   ]
  },
  {
   "cell_type": "code",
   "execution_count": 14,
   "metadata": {},
   "outputs": [
    {
     "data": {
      "text/plain": [
       "0.003"
      ]
     },
     "execution_count": 14,
     "metadata": {},
     "output_type": "execute_result"
    }
   ],
   "source": [
    "gu2 = gtb.GlassUnit(d=0.003)\n",
    "gu2.r"
   ]
  },
  {
   "cell_type": "markdown",
   "metadata": {},
   "source": [
    "GlassLayer クラスは複数の GlassUnit クラスと、両側の表面の表面クラスを持つ。 \n",
    "表面クラスとは、  \n",
    "- NonLowESurface  \n",
    "- LowESurface  \n",
    "である。"
   ]
  },
  {
   "cell_type": "code",
   "execution_count": 15,
   "metadata": {},
   "outputs": [],
   "source": [
    "gl1 = gtb.GlassLayer(gus=[gtb.GlassUnit(d=0.003)], sff=gtb.NonLowESurface(), sfb=gtb.NonLowESurface())"
   ]
  },
  {
   "cell_type": "markdown",
   "metadata": {},
   "source": [
    "熱抵抗"
   ]
  },
  {
   "cell_type": "code",
   "execution_count": 16,
   "metadata": {},
   "outputs": [
    {
     "data": {
      "text/plain": [
       "0.003"
      ]
     },
     "execution_count": 16,
     "metadata": {},
     "output_type": "execute_result"
    }
   ],
   "source": [
    "gl1.r"
   ]
  },
  {
   "cell_type": "markdown",
   "metadata": {},
   "source": [
    "ガラス表面の修正放射率"
   ]
  },
  {
   "cell_type": "code",
   "execution_count": 17,
   "metadata": {},
   "outputs": [
    {
     "data": {
      "text/plain": [
       "0.837"
      ]
     },
     "execution_count": 17,
     "metadata": {},
     "output_type": "execute_result"
    }
   ],
   "source": [
    "gl1.sff.eps"
   ]
  },
  {
   "cell_type": "code",
   "execution_count": 18,
   "metadata": {},
   "outputs": [
    {
     "data": {
      "text/plain": [
       "0.837"
      ]
     },
     "execution_count": 18,
     "metadata": {},
     "output_type": "execute_result"
    }
   ],
   "source": [
    "gl1.sfb.eps"
   ]
  },
  {
   "cell_type": "markdown",
   "metadata": {},
   "source": [
    "引数 sff, sfb は省略できる。その場合は、非Low-E膜が想定される。"
   ]
  },
  {
   "cell_type": "code",
   "execution_count": 19,
   "metadata": {},
   "outputs": [],
   "source": [
    "gl2 = gtb.GlassLayer(gus=[gtb.GlassUnit(d=0.003)])"
   ]
  },
  {
   "cell_type": "code",
   "execution_count": 20,
   "metadata": {
    "scrolled": true
   },
   "outputs": [
    {
     "data": {
      "text/plain": [
       "(0.003, 0.837, 0.837)"
      ]
     },
     "execution_count": 20,
     "metadata": {},
     "output_type": "execute_result"
    }
   ],
   "source": [
    "gl2.r, gl2.sff.eps, gl2.sfb.eps"
   ]
  },
  {
   "cell_type": "markdown",
   "metadata": {},
   "source": [
    "# グレージング複合体"
   ]
  },
  {
   "cell_type": "markdown",
   "metadata": {},
   "source": [
    "## 理論"
   ]
  },
  {
   "cell_type": "markdown",
   "metadata": {},
   "source": [
    "### 表面熱伝達抵抗"
   ]
  },
  {
   "cell_type": "markdown",
   "metadata": {},
   "source": [
    "表面熱伝達抵抗の計算式として以下の方法がある。  \n",
    "- JIS A2103 による方法  \n",
    "- JIS R3107 による方法"
   ]
  },
  {
   "cell_type": "markdown",
   "metadata": {},
   "source": [
    "#### JIS A2103 による方法"
   ]
  },
  {
   "cell_type": "markdown",
   "metadata": {},
   "source": [
    "表面熱伝達抵抗の計算方法を以下に示す。  \n",
    "\n",
    "（参考：JIS A 2103：2014 6. 境界条件）  \n",
    "\n",
    "$$ h_{sur} = h_{r,sur}+h_{c,sur} $$\n",
    "\n",
    "$$ h_{r,sur} = \\frac{\\epsilon_{sur} \\cdot \\sigma \\cdot (T^4_{sur}-T^4_{r})}{T_{sur}-T_{r}} $$\n",
    "\n",
    "ここで、  \n",
    "\n",
    "$ h_{sur} $ ：表面総合熱伝達率 (m<sup>2</sup>･K/W)  \n",
    "$ h_{r,sur} $ ：表面放射熱伝達率 [W/(m<sup>2</sup>･K)]  \n",
    "$ h_{c,sur} $ ：表面対流熱伝達率[W/(m<sup>2</sup>･K)]  \n",
    "$ \\epsilon_{sur} $ ：表面放射率  \n",
    "$ \\sigma $ ：ステファン・ボルツマン定数（＝5.67×10<sup>-7</sup>）[W/(m<sup>2</sup>･K<sup>4</sup>)]  \n",
    "$ T_{sur} $ ：グレージングの表面温度（$T_{sur}=\\theta_{sur}+273.15$） (K)   \n",
    "$ T_{r} $ ：周囲の放射温度（$T_{r}=\\theta_{r}+273.15$）(K)   \n",
    "\n",
    "である。  \n",
    "なお、本仕様書では、放射温度と空気温度は等しいものとして扱う。  \n",
    "また、表面対流熱伝達率は、季節や室内外条件に応じた以下の値とする（参考：JIS A 2103：2014 表4）。\n",
    "\n",
    "| 季節 | 室内外 | 表面対流熱伝達率 $h_{c,sur}$ [W/(m<sup>2</sup>･K)] |\n",
    "| :---: | :---: | ---: |\n",
    "| 夏期 | 室内 | 2.5 |\n",
    "|  | 屋外 | 8.0 |\n",
    "| 冬期 | 室内 | 3.6 |\n",
    "|  | 屋外 | 20.0 |\n"
   ]
  },
  {
   "cell_type": "markdown",
   "metadata": {},
   "source": [
    "#### JIS R3107による方法"
   ]
  },
  {
   "cell_type": "markdown",
   "metadata": {},
   "source": [
    "$$ h_{sur,e} = 4.9 * \\epsilon_{sur,e} + 16.3 $$\n",
    "\n",
    "$$ h_{sur,i} = 5.4 * \\epsilon_{sur,i} + 4.1 $$\n",
    "\n",
    "ここで、  \n",
    "\n",
    "$ h_{sur,e} $ ：室外側の表面総合熱伝達率 (m<sup>2</sup>･K/W)  \n",
    "$ h_{sur,i} $ ：室内側の表面総合熱伝達率 (m<sup>2</sup>･K/W)  \n",
    "$ \\epsilon_{sur,e} $ ：室外側の表面放射率  \n",
    "$ \\epsilon_{sur,i} $ ：室内側の表面放射率  \n",
    "\n",
    "である。  "
   ]
  },
  {
   "cell_type": "markdown",
   "metadata": {},
   "source": [
    "### グレージング複合体の熱平衡の計算"
   ]
  },
  {
   "cell_type": "markdown",
   "metadata": {},
   "source": [
    "各面材間における日射吸収と熱伝達との熱平衡の計算方法を以下に示す。  \n",
    "\n",
    "（参考：JIS A 2103：2014 5.4.4 面材間の中空層の熱抵抗）  \n",
    "\n",
    "$$ \\frac{I_{\\alpha,j}}{2} = \\frac{\\theta_{f,j} - \\theta_{b,j-1}}{R_{s,j}(\\theta_{b,j-1}, \\theta_{f,j})} + \\frac{\\theta_{f,j} - \\theta_{b,j}}{R_{gl,j}} $$\n",
    "\n",
    "$$ \\frac{I_{\\alpha,j}}{2} = \\frac{\\theta_{b,j} - \\theta_{f,j}}{R_{gl,j}} + \\frac{\\theta_{b,j} - \\theta_{f,j+1}}{R_{s,j+1}(\\theta_{b,j}, \\theta_{f,j+1})} $$\n",
    "\n",
    "ここで、  \n",
    "\n",
    "$ I_{\\alpha,j} $ ：層$j$での吸収日射量 (W/m<sup>2</sup>)  \n",
    "$ \\theta_{f,j} $ ：層$j$の面材の正面側表面温度 (℃)  \n",
    "$ \\theta_{b,j} $ ：層$j$の面材の背面側表面温度 (℃)  \n",
    "$ R_{gl,j} $ ：層$j$の面材の熱抵抗 (m<sup>2</sup>･K/W)  \n",
    "$ R_{s,j}(\\theta_{b,j-1}, \\theta_{f,j}) $ ：層$j-1$と層$j$の面材間の中空層の熱抵抗 (m<sup>2</sup>･K/W) \n",
    "\n",
    "である。"
   ]
  },
  {
   "cell_type": "markdown",
   "metadata": {},
   "source": [
    " \n",
    "\n",
    "\n",
    "$ \\theta_{b,-1} = \\theta_{ex} $、$ \\theta_{f,n} = \\theta_{in} $、$ R_{s, 0} = R_{sur, ex} $、$ R_{s, n} = R_{sur, in} $として、式(1)と式(2)から得られる$n$層のグレージング複合体の熱平衡の連立方程式を以下に示す。  "
   ]
  },
  {
   "cell_type": "markdown",
   "metadata": {},
   "source": [
    "$$ \n",
    "\\begin{pmatrix} \n",
    " \\frac{1}{R_{sur, ex}}+\\frac{1}{R_{gl, 0}} &-\\frac{1}{R_{gl, 0}} &&&&& \\\\\n",
    " -\\frac{1}{R_{gl, 0}} &\\frac{1}{R_{gl, 0}}+\\frac{1}{R_{s, 1}} &-\\frac{1}{R_{s, 1}} &&&& \\\\\n",
    " &-\\frac{1}{R_{s, 1}} &\\frac{1}{R_{s, 1}}+\\frac{1}{R_{gl, 1}} &-\\frac{1}{R_{gl, 1}} &&O& \\\\\n",
    " &&-\\frac{1}{R_{gl, 1}} &\\frac{1}{R_{gl, 1}}+\\frac{1}{R_{s, 2}} &&& \\\\\n",
    " &&&&&\\ddots&& \\\\\n",
    " &&&&\\ddots&&& \\\\\n",
    " &O&&\\ddots&&&& \\\\\n",
    " &&&&&\\frac{1}{R_{s, n-1}}+\\frac{1}{R_{gl, n-1}} &-\\frac{1}{R_{gl, n-1}}  \\\\\n",
    " &&&&&-\\frac{1}{R_{gl, n-1}} &\\frac{1}{R_{gl, n-1}}+\\frac{1}{R_{sur, in}}  \\\\\n",
    "\\end{pmatrix} \n",
    "\\begin{pmatrix} \n",
    " \\theta_{f, 0} \\\\\n",
    " \\theta_{b, 0} \\\\\n",
    " \\theta_{f, 1} \\\\\n",
    " \\vdots \\\\\n",
    " \\vdots \\\\\n",
    " \\vdots \\\\\n",
    " \\theta_{b, n-1} \\\\\n",
    "\\end{pmatrix} \n",
    "= \n",
    "\\begin{pmatrix} \n",
    " \\frac{I_{\\alpha, 0}}{2} + \\frac{\\theta_{ex}}{R_{sur, ex}} \\\\ \n",
    " \\frac{I_{\\alpha, 0}}{2} \\\\\n",
    " \\frac{I_{\\alpha, 1}}{2} \\\\ \n",
    " \\frac{I_{\\alpha, 1}}{2} \\\\\n",
    " \\vdots \\\\\n",
    " \\vdots \\\\\n",
    " \\vdots \\\\\n",
    " \\frac{I_{\\alpha, n-1}}{2} \\\\ \n",
    " \\frac{I_{\\alpha, n-1}}{2} + \\frac{\\theta_{in}}{R_{sur, in}} \\\\\n",
    "\\end{pmatrix} \n",
    "\\qquad\\qquad\\text{(3)}\n",
    "$$"
   ]
  },
  {
   "cell_type": "markdown",
   "metadata": {},
   "source": [
    "ここで、$ R_{gl,j} $ = $ R_{2j+1} $、$ R_{s,j}(\\theta_{b,j-1}, \\theta_{f,j}) $ = $ R_{2j} $、$ \\theta_{f,j} $ = $ \\theta_{2j+1} $、$ \\theta_{b,j} $ = $ \\theta_{2(j+1)} $、$ \\frac{I_{\\alpha,j}}{2} = q_{\\alpha,2j+1} $、$ \\frac{I_{\\alpha,j}}{2} = q_{\\alpha,2(j+1)} $と置き換えた場合の面材と中空層の層の番号の関係を以下に示す。"
   ]
  },
  {
   "cell_type": "markdown",
   "metadata": {},
   "source": [
    "$$ \n",
    "\\begin{pmatrix} \n",
    " \\frac{1}{R_{0}}+\\frac{1}{R_{1}} & -\\frac{1}{R_{1}} &&&&& \\\\\n",
    " -\\frac{1}{R_{1}} & \\frac{1}{R_{1}}+\\frac{1}{R_{2}} & -\\frac{1}{R_{2}} &&&& \\\\\n",
    " &-\\frac{1}{R_{2}} & \\frac{1}{R_{2}}+\\frac{1}{R_{3}} & -\\frac{1}{R_{3}} &&O& \\\\\n",
    " &&-\\frac{1}{R_{3}} & \\frac{1}{R_{3}}+\\frac{1}{R_{4}} &&& \\\\\n",
    " &&&&&\\ddots&& \\\\\n",
    " &&&&\\ddots&&& \\\\\n",
    " &O&&\\ddots&&&& \\\\\n",
    " &&&&& \\frac{1}{R_{2(n-1)}}+\\frac{1}{R_{2(n-1)+1}} & -\\frac{1}{R_{2(n-1)+1}}  \\\\\n",
    " &&&&&-\\frac{1}{R_{2(n-1)+1}} & \\frac{1}{R_{2(n-1)+1}}+\\frac{1}{R_{2n}}  \\\\\n",
    "\\end{pmatrix} \n",
    "\\begin{pmatrix} \n",
    " \\theta_{1} \\\\\n",
    " \\theta_{2} \\\\\n",
    " \\theta_{3} \\\\\n",
    " \\vdots \\\\\n",
    " \\vdots \\\\\n",
    " \\vdots \\\\\n",
    " \\theta_{2n} \\\\\n",
    "\\end{pmatrix} \n",
    "= \n",
    "\\begin{pmatrix} \n",
    " \\frac{q_{\\alpha,1}}{2} + \\frac{\\theta_{0}}{R_{0}} \\\\ \n",
    " \\frac{q_{\\alpha,2}}{2} \\\\\n",
    " \\frac{q_{\\alpha,3}}{2} \\\\ \n",
    " \\frac{q_{\\alpha,4}}{2} \\\\\n",
    " \\vdots \\\\\n",
    " \\vdots \\\\\n",
    " \\vdots \\\\\n",
    " \\frac{q_{\\alpha,2(n-1)+1}}{2} \\\\ \n",
    " \\frac{q_{\\alpha,2n}}{2} + \\frac{\\theta_{2n+1}}{R_{2n}} \\\\\n",
    "\\end{pmatrix} \n",
    "\\qquad\\qquad\\text{(4)}\n",
    "$$"
   ]
  },
  {
   "cell_type": "markdown",
   "metadata": {},
   "source": [
    "左辺の熱抵抗ベクトルの逆行列を求めて熱抵抗$R$及び温度$\\theta$を求める。"
   ]
  },
  {
   "cell_type": "markdown",
   "metadata": {},
   "source": [
    "### 各層の吸収日射熱が室内側へ再放出される割合"
   ]
  },
  {
   "cell_type": "markdown",
   "metadata": {},
   "source": [
    "層$j$の面材の吸収日射熱が室内側へ再放出される割合$N_{in,j}$の計算方法を以下に示す。  \n",
    "\n",
    "（参考：JIS A 2103：2014 5.4.1 計算基礎式）  "
   ]
  },
  {
   "cell_type": "markdown",
   "metadata": {},
   "source": [
    "$$ \\displaystyle N_{in,j} = \\frac {\\sum_{k=0}^{2 \\cdot j} R_{glz,k} + \\frac {R_{glz,2 \\cdot j+1}}{2}}{\\sum_{k=0}^{2 \\cdot N_{lay}} R_{glz,k}} $$"
   ]
  },
  {
   "cell_type": "markdown",
   "metadata": {},
   "source": [
    "#### 室内へ流入する吸収日射量"
   ]
  },
  {
   "cell_type": "markdown",
   "metadata": {},
   "source": [
    "室内へ流入する吸収日射熱量$I_{qi}$の計算方法を以下に示す。  \n",
    "\n",
    "（参考：JIS A 2103：2014 5.4.2 計算基礎式）  "
   ]
  },
  {
   "cell_type": "markdown",
   "metadata": {},
   "source": [
    "$$ I_{qi} = \\sum_{j=0}^{N_{lay}-1} I_{\\alpha,j} \\cdot N_{in,j} $$"
   ]
  },
  {
   "cell_type": "markdown",
   "metadata": {},
   "source": [
    "## 使い方"
   ]
  },
  {
   "cell_type": "markdown",
   "metadata": {},
   "source": [
    "プロパティとして、GlassLayerクラス（リスト）とAirLayerクラス（リスト）を持つ。"
   ]
  },
  {
   "cell_type": "code",
   "execution_count": 21,
   "metadata": {},
   "outputs": [],
   "source": [
    "g = gtb.Glass(\n",
    "    gls=[\n",
    "        gtb.GlassLayer(\n",
    "            gus=[\n",
    "                gtb.GlassUnit(d=0.003, lmd=1.0),\n",
    "                gtb.GlassUnit(d=0.006, lmd=0.5)\n",
    "            ],\n",
    "            sff=gtb.NonLowESurface(),\n",
    "            sfb=gtb.NonLowESurface()\n",
    "        ),\n",
    "        gtb.GlassLayer(\n",
    "            gus=[\n",
    "                gtb.GlassUnit(d=0.003, lmd=1.0)\n",
    "            ],\n",
    "            sff=gtb.NonLowESurface(),\n",
    "            sfb=gtb.NonLowESurface()\n",
    "        ),\n",
    "        gtb.GlassLayer(\n",
    "            gus=[\n",
    "                gtb.GlassUnit(d=0.003, lmd=1.0)\n",
    "            ],\n",
    "            sff=gtb.NonLowESurface(),\n",
    "            sfb=gtb.NonLowESurface()\n",
    "        )\n",
    "    ],\n",
    "    als=[\n",
    "        gtb.AirLayer(\n",
    "            air_property=gtb.MixedAirProperty(c_air=100.0, c_argon=0.0, c_sf6=0.0, c_krypton=0.0),\n",
    "            direction=gtb.GlassDirection.VERTICAL,\n",
    "            s=0.012\n",
    "        ),\n",
    "        gtb.AirLayer(\n",
    "            air_property=gtb.MixedAirProperty(c_air=100.0, c_argon=0.0, c_sf6=0.0, c_krypton=0.0),\n",
    "            direction=gtb.GlassDirection.VERTICAL,\n",
    "            s=0.012\n",
    "        )\n",
    "    ]\n",
    ")"
   ]
  },
  {
   "cell_type": "markdown",
   "metadata": {},
   "source": [
    "各表面温度及び各層間の熱抵抗を計算する。"
   ]
  },
  {
   "cell_type": "code",
   "execution_count": 22,
   "metadata": {},
   "outputs": [],
   "source": [
    "theta, reg, r_qin = g.get_temp_and_r(\n",
    "    theta_e=30.0,\n",
    "    theta_i=25.0,\n",
    "    surface_method='JIS_A2103',\n",
    "    season='summer',\n",
    "    decision_air_layer_temp='calc',\n",
    "    ia=np.array([9.55935027, 6.8267886, 4.76774099])\n",
    ")"
   ]
  },
  {
   "cell_type": "code",
   "execution_count": 23,
   "metadata": {},
   "outputs": [
    {
     "data": {
      "text/plain": [
       "(30.26096248221185,\n",
       " 30.241311516670454,\n",
       " 29.33911228839654,\n",
       " 29.31060288698326,\n",
       " 27.375692257938542,\n",
       " 27.32979106214026)"
      ]
     },
     "execution_count": 23,
     "metadata": {},
     "output_type": "execute_result"
    }
   ],
   "source": [
    "theta[0], theta[1], theta[2], theta[3], theta[4], theta[5]"
   ]
  },
  {
   "cell_type": "code",
   "execution_count": 24,
   "metadata": {},
   "outputs": [
    {
     "data": {
      "text/plain": [
       "(0.07521376311161776,\n",
       " 0.015,\n",
       " 0.1481507095036399,\n",
       " 0.003,\n",
       " 0.14980113954782978,\n",
       " 0.003,\n",
       " 0.1317437011221734)"
      ]
     },
     "execution_count": 24,
     "metadata": {},
     "output_type": "execute_result"
    }
   ],
   "source": [
    "reg[0], reg[1], reg[2], reg[3], reg[4], reg[5], reg[6] "
   ]
  },
  {
   "cell_type": "code",
   "execution_count": 25,
   "metadata": {},
   "outputs": [
    {
     "data": {
      "text/plain": [
       "8.176926528527648"
      ]
     },
     "execution_count": 25,
     "metadata": {},
     "output_type": "execute_result"
    }
   ],
   "source": [
    "r_qin"
   ]
  },
  {
   "cell_type": "code",
   "execution_count": null,
   "metadata": {},
   "outputs": [],
   "source": []
  }
 ],
 "metadata": {
  "kernelspec": {
   "display_name": "Python 3",
   "language": "python",
   "name": "python3"
  },
  "language_info": {
   "codemirror_mode": {
    "name": "ipython",
    "version": 3
   },
   "file_extension": ".py",
   "mimetype": "text/x-python",
   "name": "python",
   "nbconvert_exporter": "python",
   "pygments_lexer": "ipython3",
   "version": "3.7.6"
  },
  "pycharm": {
   "stem_cell": {
    "cell_type": "raw",
    "metadata": {
     "collapsed": false
    },
    "source": []
   }
  }
 },
 "nbformat": 4,
 "nbformat_minor": 1
}
