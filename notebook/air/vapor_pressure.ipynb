{
 "cells": [
  {
   "cell_type": "code",
   "execution_count": 1,
   "metadata": {},
   "outputs": [],
   "source": [
    "import matplotlib.pyplot as plt\n",
    "import sys\n",
    "\n",
    "sys.path.append('../../')\n",
    "from busi.air import vapor_pressure as vp"
   ]
  },
  {
   "cell_type": "markdown",
   "metadata": {},
   "source": [
    "# Introduction"
   ]
  },
  {
   "cell_type": "markdown",
   "metadata": {},
   "source": [
    "# Functions"
   ]
  },
  {
   "cell_type": "markdown",
   "metadata": {},
   "source": [
    "## Vapor Pressure and Absolute Humidity"
   ]
  },
  {
   "cell_type": "markdown",
   "metadata": {},
   "source": [
    "$$\n",
    "P_v = P_{atm} \\times \\frac{X}{(0.622 + X)}\n",
    "$$"
   ]
  },
  {
   "cell_type": "markdown",
   "metadata": {},
   "source": [
    "$$\n",
    "X = 0.622 \\times \\frac{P_v}{(P_{atm}-P_v)}\n",
    "$$"
   ]
  },
  {
   "cell_type": "markdown",
   "metadata": {},
   "source": [
    "Where  \n",
    "$P_V$ is the vapor pressure (Pa);  \n",
    "$P_{atm}$ is the atmospheric pressure (Pa) ( = 101325 );  \n",
    "$X$ is the absolute humidity (kg/kgDA)."
   ]
  },
  {
   "cell_type": "code",
   "execution_count": 2,
   "metadata": {},
   "outputs": [],
   "source": [
    "def ah_to_pv(x: float) -> float:\n",
    "    \"\"\"calculate the vapour pressure from the absolute humidity\n",
    "\n",
    "    Args:\n",
    "        x: absolute humidity, kg/kgDA\n",
    "\n",
    "    Returns:\n",
    "        vapour pressure, Pa\n",
    "    \"\"\"\n",
    "    \n",
    "    return vp.ah_to_pv(x)"
   ]
  },
  {
   "cell_type": "code",
   "execution_count": 3,
   "metadata": {},
   "outputs": [],
   "source": [
    "def pv_to_ah(p_v: float) -> float:\n",
    "    \"\"\"calculate the absolute humidity from the vapour pressure\n",
    "    \n",
    "    Args:\n",
    "        p_v: vapour pressure, Pa\n",
    "\n",
    "    Returns:\n",
    "        absolute humidity, kg/kgDA\n",
    "    \"\"\"\n",
    "\n",
    "    return vp.pv_to_ah(p_v)"
   ]
  },
  {
   "cell_type": "markdown",
   "metadata": {},
   "source": [
    "### Basis"
   ]
  },
  {
   "cell_type": "markdown",
   "metadata": {},
   "source": [
    "Based on Dalton's law,  \n",
    "\n",
    "$ p_i = p_{total} \\times x_{i} $  \n",
    "\n",
    "where  \n",
    "$p_i$ is the partial pressures of each component (Pa);  \n",
    "$p_{total}$ is the total pressure (Pa);  \n",
    "$x_i$ is the mole fraction of the $i$ th component.\n",
    "\n",
    "In case of the absolute humidity of $X$,  \n",
    "the weight ratio is;  \n",
    "$ \\text{air} : \\text{vapor} = 1 : X $.  \n",
    "The mole fraction ration is;  \n",
    "$ \\text{air} : \\text{vapor} = 1 / 28.966 : X / 18.0 = 18.0 / 28.966 : X \\simeq 0.622 : X $  \n",
    "Because,\n",
    "the moleculer number of water (H<sub>2</sub>O) is 18.0.  \n",
    "And, the moleculer number of air is 28.8 ( $ 32 \\times 0.2 +28 \\times 0.8 =28.8 $ ) ( O<sub>2</sub> = 32, N<sub>2</sub> =28 ) and assumed that the air is composed of O<sub>2</sub> of 80% and N<sub>2</sub> of 20%.  \n",
    "Actually, the air include the other components such as argon and carbon dioxide, and then the moleculer number of air is assumed to be 28.966 (g/mol) here.\n"
   ]
  },
  {
   "cell_type": "markdown",
   "metadata": {},
   "source": [
    "### Example"
   ]
  },
  {
   "cell_type": "code",
   "execution_count": 4,
   "metadata": {},
   "outputs": [
    {
     "data": {
      "text/plain": [
       "0.0030845524423506075"
      ]
     },
     "execution_count": 4,
     "metadata": {},
     "output_type": "execute_result"
    }
   ],
   "source": [
    "pv_to_ah(500)"
   ]
  },
  {
   "cell_type": "code",
   "execution_count": 5,
   "metadata": {},
   "outputs": [
    {
     "data": {
      "text/plain": [
       "500.0"
      ]
     },
     "execution_count": 5,
     "metadata": {},
     "output_type": "execute_result"
    }
   ],
   "source": [
    "ah_to_pv(0.0030845524423506075)"
   ]
  },
  {
   "cell_type": "markdown",
   "metadata": {},
   "source": [
    "## Relative Humidity and Vapor Pressure"
   ]
  },
  {
   "cell_type": "markdown",
   "metadata": {},
   "source": [
    "$$\n",
    "\\phi = \\frac{p_v}{p_{sv}} \\times 100\n",
    "$$"
   ]
  },
  {
   "cell_type": "markdown",
   "metadata": {},
   "source": [
    "$$\n",
    "p_v = p_{sv} \\times \\frac{\\phi}{100}\n",
    "$$"
   ]
  },
  {
   "cell_type": "markdown",
   "metadata": {},
   "source": [
    "Where  \n",
    "$P_V$ is the vapor pressure (Pa);  \n",
    "$P_{sv}$ is the saturated vapor pressure (Pa);  \n",
    "$\\psi$ is the relative humidity (0~100) (%)."
   ]
  },
  {
   "cell_type": "code",
   "execution_count": 6,
   "metadata": {},
   "outputs": [],
   "source": [
    "def pv_to_rh(p_v: float, t: float, equation: str, status: str) -> float:\n",
    "    \"\"\"calculate the relative humidity from the vapour pressure and temperature\n",
    "    \n",
    "    Args:\n",
    "        p_v: vapour pressure, Pa\n",
    "        t: temperature, K\n",
    "        equation: used equation for saturated vapour pressure\n",
    "        status: ice or water\n",
    "\n",
    "    Returns:\n",
    "        relative humidity, %\n",
    "    \"\"\"\n",
    "\n",
    "    return vp.pv_to_rh(p_v, t, equation, status)"
   ]
  },
  {
   "cell_type": "code",
   "execution_count": 7,
   "metadata": {},
   "outputs": [],
   "source": [
    "def rh_to_pv(phi: float, t: float, equation: str, status: str) -> float:\n",
    "    \"\"\"calculate the vapour pressure from the relative humidity and temperature\n",
    "    \n",
    "    Args:\n",
    "        phi: relative humidity, %\n",
    "        t: temperature, K\n",
    "        equation: used equation for saturated vapour pressure\n",
    "        status: ice or water\n",
    "\n",
    "    Returns:\n",
    "        vapour pressure, Pa\n",
    "    \"\"\"\n",
    "\n",
    "    return vp.rh_to_pv(phi, t, equation, status)"
   ]
  },
  {
   "cell_type": "markdown",
   "metadata": {},
   "source": [
    "### Example"
   ]
  },
  {
   "cell_type": "code",
   "execution_count": 8,
   "metadata": {},
   "outputs": [
    {
     "data": {
      "text/plain": [
       "23.54587078514155"
      ]
     },
     "execution_count": 8,
     "metadata": {},
     "output_type": "execute_result"
    }
   ],
   "source": [
    "pv_to_rh(1000, 303.15,'SONNTAG','water')"
   ]
  },
  {
   "cell_type": "code",
   "execution_count": 9,
   "metadata": {},
   "outputs": [
    {
     "data": {
      "text/plain": [
       "1000.0"
      ]
     },
     "execution_count": 9,
     "metadata": {},
     "output_type": "execute_result"
    }
   ],
   "source": [
    "rh_to_pv(23.54587078514155, 303.15,'SONNTAG','water')"
   ]
  },
  {
   "cell_type": "markdown",
   "metadata": {},
   "source": [
    "## Absolute and Relative Humidity"
   ]
  },
  {
   "cell_type": "markdown",
   "metadata": {},
   "source": [
    "Relative humidity (%) to absolute humidity (kg/kgDA)."
   ]
  },
  {
   "cell_type": "code",
   "execution_count": 10,
   "metadata": {},
   "outputs": [],
   "source": [
    "def rh_to_ah(phi: float, t: float, equation: str, status: str) -> float:\n",
    "    \"\"\"calculate absolute humidity from relative humidity and temperature\n",
    "    \n",
    "    Args:\n",
    "        phi: relative humidity, %\n",
    "        t: temperature, K\n",
    "        equation: used equation for saturated vapour pressure\n",
    "        status: ice or water\n",
    "\n",
    "    Returns:\n",
    "        absolute humidity, kg/kgDA\n",
    "    \"\"\"\n",
    "\n",
    "    return vp.rh_to_ah(phi, t, equation, status)"
   ]
  },
  {
   "cell_type": "markdown",
   "metadata": {},
   "source": [
    "Absolute humidity (kg/kgDA) to relative humidity (%)."
   ]
  },
  {
   "cell_type": "code",
   "execution_count": 11,
   "metadata": {},
   "outputs": [],
   "source": [
    "def ah_to_rh(x: float, t: float, equation: str, status: str) -> float:\n",
    "    \"\"\"calculate relative humidity from absolute humidity and temperature\n",
    "    \n",
    "    Args:\n",
    "        x: absolute humidity, kg/kgDA\n",
    "        t: temperature, K\n",
    "        equation: used equation for saturated vapour pressure\n",
    "        status: ice or water\n",
    "\n",
    "    Returns:\n",
    "        relative humidity, %\n",
    "    \"\"\"\n",
    "    \n",
    "    return vp.ah_to_rh(x, t, equation, status)"
   ]
  },
  {
   "cell_type": "markdown",
   "metadata": {},
   "source": [
    "### Example 1"
   ]
  },
  {
   "cell_type": "code",
   "execution_count": 12,
   "metadata": {},
   "outputs": [
    {
     "data": {
      "text/plain": [
       "0.009884095183878179"
      ]
     },
     "execution_count": 12,
     "metadata": {},
     "output_type": "execute_result"
    }
   ],
   "source": [
    "rh_to_ah(50.0,298.15,'SONNTAG','water')"
   ]
  },
  {
   "cell_type": "code",
   "execution_count": 13,
   "metadata": {},
   "outputs": [
    {
     "data": {
      "text/plain": [
       "49.99999999999999"
      ]
     },
     "execution_count": 13,
     "metadata": {},
     "output_type": "execute_result"
    }
   ],
   "source": [
    "ah_to_rh(0.009884095183878179,298.15,'SONNTAG','water')"
   ]
  },
  {
   "cell_type": "markdown",
   "metadata": {},
   "source": [
    "### Example 2"
   ]
  },
  {
   "cell_type": "code",
   "execution_count": 14,
   "metadata": {},
   "outputs": [
    {
     "data": {
      "image/png": "[encoded data removed]",
      "text/plain": [
       "<Figure size 1500x400 with 1 Axes>"
      ]
     },
     "metadata": {},
     "output_type": "display_data"
    }
   ],
   "source": [
    "temp = [ 0.1 * x for x in range(0,500)]\n",
    "plt.figure( figsize = (15,4) )\n",
    "for rh in [25,50,75,100]:\n",
    "    ah = [ rh_to_ah(rh, t + 273.15, 'SONNTAG', 'water') for t in temp ] \n",
    "    plt.plot(temp,ah,label= str(rh) + '%')\n",
    "plt.legend()\n",
    "plt.xlabel('Temperature, degree C')\n",
    "plt.ylabel('Absolute Humidity, kg/kgDA')\n",
    "plt.show()"
   ]
  },
  {
   "cell_type": "markdown",
   "metadata": {},
   "source": [
    "## Saturated Absolute Humidity"
   ]
  },
  {
   "cell_type": "code",
   "execution_count": 15,
   "metadata": {},
   "outputs": [],
   "source": [
    "def get_saturated_absolute_humidity(t: float, equation: str, status: str) -> float:\n",
    "    \"\"\"calculate the saturated absolute humidity from the temperature\n",
    "    \n",
    "    Args:\n",
    "        t: temperature, K\n",
    "        equation: used equation for saturated vapour pressure\n",
    "        status: ice or water\n",
    "\n",
    "    Returns:\n",
    "        saturated absolute humidity, kg/kgDA\n",
    "    \"\"\"\n",
    "    \n",
    "    return vp._get_saturated_absolute_humidity(t, equation, status)"
   ]
  },
  {
   "cell_type": "markdown",
   "metadata": {},
   "source": [
    "### Example"
   ]
  },
  {
   "cell_type": "code",
   "execution_count": 16,
   "metadata": {},
   "outputs": [
    {
     "data": {
      "image/png": "[encoded data removed]",
      "text/plain": [
       "<Figure size 1500x400 with 1 Axes>"
      ]
     },
     "metadata": {},
     "output_type": "display_data"
    }
   ],
   "source": [
    "temp = [ 0.1 * x for x in range(0,500)]\n",
    "plt.figure( figsize = (15,4) )\n",
    "ah = [ get_saturated_absolute_humidity(t + 273.15, 'SONNTAG', 'water') for t in temp ] \n",
    "plt.plot(temp,ah)\n",
    "plt.xlabel('Temperature, degree C')\n",
    "plt.ylabel('Saturated Absolute Humidity, kg/kgDA')\n",
    "plt.show()"
   ]
  },
  {
   "cell_type": "markdown",
   "metadata": {},
   "source": [
    "## Dew Point Temperature"
   ]
  },
  {
   "cell_type": "code",
   "execution_count": 17,
   "metadata": {},
   "outputs": [],
   "source": [
    "def get_dew_point_temp(x_s: float, equation: str, status: str) -> float:\n",
    "    \"\"\"calculate the dew point temperature from the absolute humidity\n",
    "    \n",
    "    Args:\n",
    "        x_s: absolute humidity, kg/kgDA\n",
    "        equation: used equation for saturated vapour pressure\n",
    "        status: ice or water\n",
    "\n",
    "    Returns:\n",
    "        dew point temperature, K\n",
    "    \"\"\"\n",
    "    \n",
    "    return vp.t_dewp(x_s, equation, status)"
   ]
  },
  {
   "cell_type": "markdown",
   "metadata": {},
   "source": [
    "### Example"
   ]
  },
  {
   "cell_type": "code",
   "execution_count": 18,
   "metadata": {},
   "outputs": [
    {
     "data": {
      "text/plain": [
       "0.014699216458052453"
      ]
     },
     "execution_count": 18,
     "metadata": {},
     "output_type": "execute_result"
    }
   ],
   "source": [
    "get_saturated_absolute_humidity(293.15, 'SONNTAG', 'water')"
   ]
  },
  {
   "cell_type": "code",
   "execution_count": 19,
   "metadata": {},
   "outputs": [
    {
     "data": {
      "text/plain": [
       "293.15"
      ]
     },
     "execution_count": 19,
     "metadata": {},
     "output_type": "execute_result"
    }
   ],
   "source": [
    "get_dew_point_temp(0.014699216458052453, 'SONNTAG', 'water')"
   ]
  },
  {
   "cell_type": "code",
   "execution_count": null,
   "metadata": {},
   "outputs": [],
   "source": []
  }
 ],
 "metadata": {
  "kernelspec": {
   "display_name": "Python 3",
   "language": "python",
   "name": "python3"
  },
  "language_info": {
   "codemirror_mode": {
    "name": "ipython",
    "version": 3
   },
   "file_extension": ".py",
   "mimetype": "text/x-python",
   "name": "python",
   "nbconvert_exporter": "python",
   "pygments_lexer": "ipython3",
   "version": "3.9.12"
  },
  "toc": {
   "base_numbering": 1,
   "nav_menu": {},
   "number_sections": true,
   "sideBar": true,
   "skip_h1_title": false,
   "title_cell": "Table of Contents",
   "title_sidebar": "Contents",
   "toc_cell": false,
   "toc_position": {},
   "toc_section_display": true,
   "toc_window_display": true
  }
 },
 "nbformat": 4,
 "nbformat_minor": 2
}
